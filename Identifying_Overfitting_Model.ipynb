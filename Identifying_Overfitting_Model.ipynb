{
  "nbformat": 4,
  "nbformat_minor": 0,
  "metadata": {
    "colab": {
      "name": "Identifying Overfitting Model.ipynb",
      "provenance": [],
      "collapsed_sections": []
    },
    "kernelspec": {
      "name": "python3",
      "display_name": "Python 3"
    },
    "language_info": {
      "name": "python"
    }
  },
  "cells": [
    {
      "cell_type": "markdown",
      "metadata": {
        "id": "vxihySek44L4"
      },
      "source": [
        "## 학습 곡선 해석하기\n",
        "- 최적화 학습 곡선 : Loss\n",
        "- 성능 학습 곡선 : Accuracy\n",
        "\n",
        "<Loss 기준>\n",
        "1. Underfitting\n",
        "2. Overfitting\n",
        "3. good\n",
        "4. Data representation"
      ]
    },
    {
      "cell_type": "markdown",
      "metadata": {
        "id": "aNr1A1P25P7w"
      },
      "source": [
        "### 1. Underfitting"
      ]
    },
    {
      "cell_type": "markdown",
      "metadata": {
        "id": "ySIwusM15WlL"
      },
      "source": [
        "#### 1.1 학습 자체가 잘 안되고 있는 경우 \n",
        "- train loss도 제대로 줄어들지 않고 있다. \n",
        "- 마찬가지로 valid loss도 그렇고 이 둘 사이에 큰 격차가 존재한다. "
      ]
    },
    {
      "cell_type": "markdown",
      "metadata": {
        "id": "fZiXkCag4GdI"
      },
      "source": [
        "![underfit_1](http://drive.google.com/uc?id=1s_VJETIK5pnIZ6hR52myJ0wXfVnMl_ID)"
      ]
    },
    {
      "cell_type": "markdown",
      "metadata": {
        "id": "wPjh9Pkd5pvt"
      },
      "source": [
        "#### 1.2 학습량이 부족한 경우 "
      ]
    },
    {
      "cell_type": "markdown",
      "metadata": {
        "id": "at6-BEqH6BF8"
      },
      "source": [
        "- train loss 및 valid loss가 계속해서 감소하고 있다. \n",
        "- 이 경우 더 학습하거나 learing_rate를 증가시키는 것이 방법이 될 수 있다. "
      ]
    },
    {
      "cell_type": "markdown",
      "metadata": {
        "id": "7_9C4_6z5yRT"
      },
      "source": [
        "![upderfit_2](http://drive.google.com/uc?id=13wfsbD5vPtO6ZTkmPtMbl5CKj5CSXSlN)"
      ]
    },
    {
      "cell_type": "markdown",
      "metadata": {
        "id": "WvELP9A96K7V"
      },
      "source": [
        "### 2. Overfitting"
      ]
    },
    {
      "cell_type": "markdown",
      "metadata": {
        "id": "5pt7kZBi6NUb"
      },
      "source": [
        "- train loss가 계속 줄어드는 반면, valid loss는 어느 순간부터 다시 올라감\n",
        "- train과 valid의 loss 그래프가 상당히 울퉁불퉁함"
      ]
    },
    {
      "cell_type": "markdown",
      "metadata": {
        "id": "InhQtvLl6R-R"
      },
      "source": [
        "![overfit_1](http://drive.google.com/uc?id=1-qyw-S29UQvvqBH1xoaSCElCihqio7CL)"
      ]
    },
    {
      "cell_type": "markdown",
      "metadata": {
        "id": "UNOYxYA265_Y"
      },
      "source": [
        "### 3. 좋은 학습 곡선\n",
        "- 학습 곡선이 둘 다 안정적인 곳으로 수렴함\n",
        "- train loss와 valid loss의 간격이 최소\n",
        "- 일반화 오차에 의해 조금의 차이가 있음\n",
        "- 그래프가 비교적 평탄함"
      ]
    },
    {
      "cell_type": "markdown",
      "metadata": {
        "id": "uQXgnmS16x8C"
      },
      "source": [
        "![good](http://drive.google.com/uc?id=1a-liauiYTutuqueR-7OZp2ZZvy7dwan-)"
      ]
    },
    {
      "cell_type": "markdown",
      "metadata": {
        "id": "lXno_FiW7VGA"
      },
      "source": [
        "### 4. Data Representation"
      ]
    },
    {
      "cell_type": "markdown",
      "metadata": {
        "id": "5wYD6W6u7o06"
      },
      "source": [
        "#### 4.1 train 데이터에 대표성이 없는 경우 \n",
        "- 개선이 되는 거 같긴 하지만 train loss와 valid loss에 상당한 격차가 보임\n",
        "- 일반적으로 valid set에 비해 train set이 적은 경우에 빈번하게 발생"
      ]
    },
    {
      "cell_type": "markdown",
      "metadata": {
        "id": "HOT4T1yK7b6v"
      },
      "source": [
        "![train_data_leakage](http://drive.google.com/uc?id=1ScOcHAf2j5-54edQwgDXjyVhHbAPqZXr)"
      ]
    },
    {
      "cell_type": "markdown",
      "metadata": {
        "id": "ebtz_Onr7_UL"
      },
      "source": [
        "#### 4.2 valid 데이터에 대표성이 없는 경우 "
      ]
    },
    {
      "cell_type": "markdown",
      "metadata": {
        "id": "De84Tkdp8ilK"
      },
      "source": [
        "- train loss는 적합하나 valid loss가 매우 불안정함"
      ]
    },
    {
      "cell_type": "markdown",
      "metadata": {
        "id": "sIk06t2Y8Co7"
      },
      "source": [
        "![valid_data_leakage](http://drive.google.com/uc?id=1RaR5VpZP8iILNbOsrH0agHLBBMQCLUeN)"
      ]
    },
    {
      "cell_type": "markdown",
      "metadata": {
        "id": "4GltMVcm8fcI"
      },
      "source": [
        "- 검증 데이터가 훈련 데이터보다 예측이 더 쉬운 경우 "
      ]
    },
    {
      "cell_type": "markdown",
      "metadata": {
        "id": "yJ0MI-rD8r9N"
      },
      "source": [
        "![valid_data_leakage_2](http://drive.google.com/uc?id=1x44_hWtZ_KAT8EDZjixJ1Jq63XP2HDR1)"
      ]
    },
    {
      "cell_type": "markdown",
      "metadata": {
        "id": "RgpUf7zW85M4"
      },
      "source": [
        "# 학습 곡선을 이용해 Overfitting을 판단하는 예시(feat.반례)"
      ]
    },
    {
      "cell_type": "code",
      "metadata": {
        "colab": {
          "base_uri": "https://localhost:8080/"
        },
        "id": "Bxak1pjTlPq_",
        "outputId": "39de6e9c-c841-47fa-921c-f19ecb172564"
      },
      "source": [
        "# synthetic classification dataset\n",
        "from sklearn.datasets import make_classification\n",
        "# define dataset\n",
        "X, y = make_classification(n_samples=10000, n_features=20, n_informative=5, n_redundant=15, random_state=1)\n",
        "# summarize the dataset\n",
        "print(X.shape, y.shape)"
      ],
      "execution_count": null,
      "outputs": [
        {
          "output_type": "stream",
          "text": [
            "(10000, 20) (10000,)\n"
          ],
          "name": "stdout"
        }
      ]
    },
    {
      "cell_type": "code",
      "metadata": {
        "colab": {
          "base_uri": "https://localhost:8080/"
        },
        "id": "Xqy18J2Mlerj",
        "outputId": "5fdbdd09-54c3-449f-ebfc-b0b64e11a2ed"
      },
      "source": [
        "# split a dataset into train and test sets\n",
        "from sklearn.datasets import make_classification\n",
        "from sklearn.model_selection import train_test_split\n",
        "# create dataset\n",
        "X, y = make_classification(n_samples=10000, n_features=20, n_informative=5, n_redundant=15, random_state=1)\n",
        "# split into train test sets\n",
        "X_train, X_test, y_train, y_test = train_test_split(X, y, test_size=0.3)\n",
        "# summarize the shape of the train and test sets\n",
        "print(X_train.shape, X_test.shape, y_train.shape, y_test.shape)"
      ],
      "execution_count": null,
      "outputs": [
        {
          "output_type": "stream",
          "text": [
            "(7000, 20) (3000, 20) (7000,) (3000,)\n"
          ],
          "name": "stdout"
        }
      ]
    },
    {
      "cell_type": "code",
      "metadata": {
        "id": "k9VNLeFYlkav"
      },
      "source": [
        "# define the tree depths to evaluate\n",
        "values = [i for i in range(1, 21)]"
      ],
      "execution_count": null,
      "outputs": []
    },
    {
      "cell_type": "code",
      "metadata": {
        "colab": {
          "base_uri": "https://localhost:8080/"
        },
        "id": "ygc9w31mlnTK",
        "outputId": "2a9626be-9395-4552-fb13-09d665e2b473"
      },
      "source": [
        "from sklearn.tree import DecisionTreeClassifier\n",
        "from sklearn.metrics import accuracy_score\n",
        "# evaluate a decision tree for each depth\n",
        "train_scores = []\n",
        "test_scores = []\n",
        "for i in values:\n",
        "\t# configure the model\n",
        "\tmodel = DecisionTreeClassifier(max_depth=i)\n",
        "\t# fit model on the training dataset\n",
        "\tmodel.fit(X_train, y_train)\n",
        "\t# evaluate on the train dataset\n",
        "\ttrain_yhat = model.predict(X_train)\n",
        "\ttrain_acc = accuracy_score(y_train, train_yhat)\n",
        "\ttrain_scores.append(train_acc)\n",
        "\t# evaluate on the test dataset\n",
        "\ttest_yhat = model.predict(X_test)\n",
        "\ttest_acc = accuracy_score(y_test, test_yhat)\n",
        "\ttest_scores.append(test_acc)\n",
        "\t# summarize progress\n",
        "\tprint('>%d, train: %.3f, test: %.3f' % (i, train_acc, test_acc))"
      ],
      "execution_count": null,
      "outputs": [
        {
          "output_type": "stream",
          "text": [
            ">1, train: 0.761, test: 0.769\n",
            ">2, train: 0.802, test: 0.807\n",
            ">3, train: 0.870, test: 0.872\n",
            ">4, train: 0.905, test: 0.896\n",
            ">5, train: 0.921, test: 0.910\n",
            ">6, train: 0.934, test: 0.919\n",
            ">7, train: 0.944, test: 0.928\n",
            ">8, train: 0.950, test: 0.924\n",
            ">9, train: 0.960, test: 0.921\n",
            ">10, train: 0.969, test: 0.919\n",
            ">11, train: 0.977, test: 0.921\n",
            ">12, train: 0.983, test: 0.916\n",
            ">13, train: 0.987, test: 0.913\n",
            ">14, train: 0.990, test: 0.916\n",
            ">15, train: 0.993, test: 0.916\n",
            ">16, train: 0.996, test: 0.913\n",
            ">17, train: 0.997, test: 0.915\n",
            ">18, train: 0.998, test: 0.908\n",
            ">19, train: 0.999, test: 0.910\n",
            ">20, train: 0.999, test: 0.910\n"
          ],
          "name": "stdout"
        }
      ]
    },
    {
      "cell_type": "code",
      "metadata": {
        "colab": {
          "base_uri": "https://localhost:8080/",
          "height": 265
        },
        "id": "5K54mb75lrlU",
        "outputId": "e1940faf-9958-4e1a-9bf6-fb74aac0fea1"
      },
      "source": [
        "import matplotlib.pyplot as pyplot\n",
        "pyplot.plot(values, train_scores, '-o', label='Train')\n",
        "pyplot.plot(values, test_scores, '-o', label='Test')\n",
        "pyplot.legend()\n",
        "pyplot.show()"
      ],
      "execution_count": null,
      "outputs": [
        {
          "output_type": "display_data",
          "data": {
            "image/png": "[encoded data removed]",
            "text/plain": [
              "<Figure size 432x288 with 1 Axes>"
            ]
          },
          "metadata": {
            "tags": [],
            "needs_background": "light"
          }
        }
      ]
    },
    {
      "cell_type": "code",
      "metadata": {
        "colab": {
          "base_uri": "https://localhost:8080/",
          "height": 628
        },
        "id": "awZEvv2KmNKG",
        "outputId": "df9f0df3-105f-46ac-9747-c241a19324a3"
      },
      "source": [
        "# evaluate decision tree performance on train and test sets with different tree depths\n",
        "from sklearn.datasets import make_classification\n",
        "from sklearn.model_selection import train_test_split\n",
        "from sklearn.metrics import accuracy_score\n",
        "from sklearn.tree import DecisionTreeClassifier\n",
        "from matplotlib import pyplot\n",
        "# create dataset\n",
        "X, y = make_classification(n_samples=10000, n_features=20, n_informative=5, n_redundant=15, random_state=1)\n",
        "# split into train test sets\n",
        "X_train, X_test, y_train, y_test = train_test_split(X, y, test_size=0.3)\n",
        "# define lists to collect scores\n",
        "train_scores, test_scores = list(), list()\n",
        "# define the tree depths to evaluate\n",
        "values = [i for i in range(1, 21)]\n",
        "# evaluate a decision tree for each depth\n",
        "for i in values:\n",
        "\t# configure the model\n",
        "\tmodel = DecisionTreeClassifier(max_depth=i)\n",
        "\t# fit model on the training dataset\n",
        "\tmodel.fit(X_train, y_train)\n",
        "\t# evaluate on the train dataset\n",
        "\ttrain_yhat = model.predict(X_train)\n",
        "\ttrain_acc = accuracy_score(y_train, train_yhat)\n",
        "\ttrain_scores.append(train_acc)\n",
        "\t# evaluate on the test dataset\n",
        "\ttest_yhat = model.predict(X_test)\n",
        "\ttest_acc = accuracy_score(y_test, test_yhat)\n",
        "\ttest_scores.append(test_acc)\n",
        "\t# summarize progress\n",
        "\tprint('>%d, train: %.3f, test: %.3f' % (i, train_acc, test_acc))\n",
        "# plot of train and test scores vs tree depth\n",
        "pyplot.plot(values, train_scores, '-o', label='Train')\n",
        "pyplot.plot(values, test_scores, '-o', label='Test')\n",
        "pyplot.legend()\n",
        "pyplot.show()"
      ],
      "execution_count": null,
      "outputs": [
        {
          "output_type": "stream",
          "text": [
            ">1, train: 0.768, test: 0.760\n",
            ">2, train: 0.809, test: 0.799\n",
            ">3, train: 0.874, test: 0.866\n",
            ">4, train: 0.905, test: 0.892\n",
            ">5, train: 0.916, test: 0.903\n",
            ">6, train: 0.929, test: 0.913\n",
            ">7, train: 0.944, test: 0.924\n",
            ">8, train: 0.953, test: 0.923\n",
            ">9, train: 0.963, test: 0.923\n",
            ">10, train: 0.969, test: 0.916\n",
            ">11, train: 0.977, test: 0.917\n",
            ">12, train: 0.983, test: 0.914\n",
            ">13, train: 0.986, test: 0.916\n",
            ">14, train: 0.990, test: 0.913\n",
            ">15, train: 0.992, test: 0.915\n",
            ">16, train: 0.995, test: 0.910\n",
            ">17, train: 0.997, test: 0.907\n",
            ">18, train: 0.998, test: 0.913\n",
            ">19, train: 0.998, test: 0.911\n",
            ">20, train: 0.998, test: 0.908\n"
          ],
          "name": "stdout"
        },
        {
          "output_type": "display_data",
          "data": {
            "image/png": "[encoded data removed]",
            "text/plain": [
              "<Figure size 432x288 with 1 Axes>"
            ]
          },
          "metadata": {
            "tags": [],
            "needs_background": "light"
          }
        }
      ]
    },
    {
      "cell_type": "code",
      "metadata": {
        "colab": {
          "base_uri": "https://localhost:8080/",
          "height": 1000
        },
        "id": "Yg7Zv-limXCH",
        "outputId": "44b51831-aa8d-4c70-92e5-f6f0d95d234a"
      },
      "source": [
        "# evaluate knn performance on train and test sets with different numbers of neighbors\n",
        "from sklearn.datasets import make_classification\n",
        "from sklearn.model_selection import train_test_split\n",
        "from sklearn.metrics import accuracy_score\n",
        "from sklearn.neighbors import KNeighborsClassifier\n",
        "from matplotlib import pyplot\n",
        "# create dataset\n",
        "X, y = make_classification(n_samples=10000, n_features=20, n_informative=5, n_redundant=15, random_state=1)\n",
        "# split into train test sets\n",
        "X_train, X_test, y_train, y_test = train_test_split(X, y, test_size=0.3)\n",
        "# define lists to collect scores\n",
        "train_scores, test_scores = list(), list()\n",
        "# define the tree depths to evaluate\n",
        "values = [i for i in range(1, 51)]\n",
        "# evaluate a decision tree for each depth\n",
        "for i in values:\n",
        "\t# configure the model\n",
        "\tmodel = KNeighborsClassifier(n_neighbors=i)\n",
        "\t# fit model on the training dataset\n",
        "\tmodel.fit(X_train, y_train)\n",
        "\t# evaluate on the train dataset\n",
        "\ttrain_yhat = model.predict(X_train)\n",
        "\ttrain_acc = accuracy_score(y_train, train_yhat)\n",
        "\ttrain_scores.append(train_acc)\n",
        "\t# evaluate on the test dataset\n",
        "\ttest_yhat = model.predict(X_test)\n",
        "\ttest_acc = accuracy_score(y_test, test_yhat)\n",
        "\ttest_scores.append(test_acc)\n",
        "\t# summarize progress\n",
        "\tprint('>%d, train: %.3f, test: %.3f' % (i, train_acc, test_acc))\n",
        "# plot of train and test scores vs number of neighbors\n",
        "pyplot.plot(values, train_scores, '-o', label='Train')\n",
        "pyplot.plot(values, test_scores, '-o', label='Test')\n",
        "pyplot.legend()\n",
        "pyplot.show()"
      ],
      "execution_count": null,
      "outputs": [
        {
          "output_type": "stream",
          "text": [
            ">1, train: 1.000, test: 0.921\n",
            ">2, train: 0.962, test: 0.918\n",
            ">3, train: 0.960, test: 0.934\n",
            ">4, train: 0.954, test: 0.936\n",
            ">5, train: 0.953, test: 0.938\n",
            ">6, train: 0.951, test: 0.940\n",
            ">7, train: 0.949, test: 0.939\n",
            ">8, train: 0.948, test: 0.937\n",
            ">9, train: 0.947, test: 0.937\n",
            ">10, train: 0.947, test: 0.936\n",
            ">11, train: 0.944, test: 0.937\n",
            ">12, train: 0.945, test: 0.937\n",
            ">13, train: 0.942, test: 0.935\n",
            ">14, train: 0.943, test: 0.934\n",
            ">15, train: 0.942, test: 0.936\n",
            ">16, train: 0.941, test: 0.936\n",
            ">17, train: 0.940, test: 0.936\n",
            ">18, train: 0.940, test: 0.935\n",
            ">19, train: 0.940, test: 0.938\n",
            ">20, train: 0.940, test: 0.938\n",
            ">21, train: 0.939, test: 0.939\n",
            ">22, train: 0.939, test: 0.938\n",
            ">23, train: 0.938, test: 0.938\n",
            ">24, train: 0.939, test: 0.936\n",
            ">25, train: 0.937, test: 0.938\n",
            ">26, train: 0.937, test: 0.936\n",
            ">27, train: 0.937, test: 0.936\n",
            ">28, train: 0.937, test: 0.937\n",
            ">29, train: 0.937, test: 0.937\n",
            ">30, train: 0.936, test: 0.936\n",
            ">31, train: 0.937, test: 0.937\n",
            ">32, train: 0.937, test: 0.935\n",
            ">33, train: 0.935, test: 0.936\n",
            ">34, train: 0.936, test: 0.936\n",
            ">35, train: 0.935, test: 0.936\n",
            ">36, train: 0.935, test: 0.936\n",
            ">37, train: 0.935, test: 0.934\n",
            ">38, train: 0.935, test: 0.934\n",
            ">39, train: 0.935, test: 0.935\n",
            ">40, train: 0.933, test: 0.936\n",
            ">41, train: 0.933, test: 0.936\n",
            ">42, train: 0.932, test: 0.936\n",
            ">43, train: 0.932, test: 0.936\n",
            ">44, train: 0.932, test: 0.935\n",
            ">45, train: 0.932, test: 0.935\n",
            ">46, train: 0.932, test: 0.935\n",
            ">47, train: 0.932, test: 0.934\n",
            ">48, train: 0.931, test: 0.933\n",
            ">49, train: 0.932, test: 0.933\n",
            ">50, train: 0.931, test: 0.933\n"
          ],
          "name": "stdout"
        },
        {
          "output_type": "display_data",
          "data": {
            "image/png": "[encoded data removed]",
            "text/plain": [
              "<Figure size 432x288 with 1 Axes>"
            ]
          },
          "metadata": {
            "tags": [],
            "needs_background": "light"
          }
        }
      ]
    },
    {
      "cell_type": "markdown",
      "metadata": {
        "id": "hFsEhZrlrQd3"
      },
      "source": [
        "결론 : 학습 곡선은 Overfitting을 감지하고 싶을 때 아주 유용한 방법이다. \n",
        "하지만 알고리즘 작동방식에 따라 학습곡선이 의미가 없을 떄도 있다. \n",
        "중요한 건 train 외 샘플의 score로 모델을 선택해야 한다는 것이다. \n",
        "하지만 이것도 함정은 있다. 다양한 하이퍼파라미터를 그리드/랜덤/베이지안 서치를 해서 valid score를 얻고 이것들을 비교해서 적합한 하이퍼파라미터를 찾는 방식은\n",
        "어쩌면 운이 작용하고 있을 수도 있다. 하지만 이 경우 선택된 하이퍼파라미터의 valid score가 당연히 가장 높은게 선택되겠지만 train에서 과적합되고 있는 경우가 있을 지 모른다. 이 경우 과적합 지점 전에 짤라주는 것이 일반화에 더 도움이 될 것이다."
      ]
    },
    {
      "cell_type": "code",
      "metadata": {
        "colab": {
          "base_uri": "https://localhost:8080/",
          "height": 283
        },
        "id": "jQH_wkcVsgGN",
        "outputId": "d856a536-ab62-40af-b9b7-1cf1926950ff"
      },
      "source": [
        "x = range(len(y))\n",
        "y = [1,3,10,11,12,13,15,14,14,14,13,22,14,14,13,12]\n",
        "pyplot.plot(x,y, label = 'valid')\n",
        "pyplot.plot(x, range(12,11 + len(y)+1,1), label = 'train')\n",
        "pyplot.legend()"
      ],
      "execution_count": null,
      "outputs": [
        {
          "output_type": "execute_result",
          "data": {
            "text/plain": [
              "<matplotlib.legend.Legend at 0x7f0bf928cd10>"
            ]
          },
          "metadata": {
            "tags": []
          },
          "execution_count": 26
        },
        {
          "output_type": "display_data",
          "data": {
            "image/png": "[encoded data removed]",
            "text/plain": [
              "<Figure size 432x288 with 1 Axes>"
            ]
          },
          "metadata": {
            "tags": [],
            "needs_background": "light"
          }
        }
      ]
    },
    {
      "cell_type": "code",
      "metadata": {
        "id": "2g4WmmrvsxF0"
      },
      "source": [
        ""
      ],
      "execution_count": null,
      "outputs": []
    }
  ]
}